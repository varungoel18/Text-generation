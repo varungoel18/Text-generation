{
 "cells": [
  {
   "cell_type": "markdown",
   "id": "772a9468",
   "metadata": {},
   "source": [
    "# Markov Chain\n",
    "\n",
    "- Probabistic Model for Text/Natural Language Generation\n",
    "- Simple and effective way of generating new text\n",
    "    - Text\n",
    "    - Lyrics\n",
    "    - Story/Novel\n",
    "    - Code\n",
    "    \n",
    "    \n",
    "<img src=\"https://media.giphy.com/media/dQpUkK59l5Imxsh8jN/giphy.gif\" width=500>"
   ]
  },
  {
   "cell_type": "code",
   "execution_count": null,
   "id": "b255803b",
   "metadata": {},
   "outputs": [],
   "source": []
  },
  {
   "cell_type": "code",
   "execution_count": null,
   "id": "7a918577",
   "metadata": {},
   "outputs": [],
   "source": []
  },
  {
   "cell_type": "code",
   "execution_count": 1,
   "id": "972bb23e",
   "metadata": {},
   "outputs": [],
   "source": [
    "# text = \"the man was ....they...then.... the ...then the dog  \"\n",
    "\n",
    "# X is the sequence of 'K = 3' and Y is predicted character or K+1 the character\n",
    "\n",
    "# X      Y     Freq\n",
    "# the   \" \"     3\n",
    "# he_    m      1\n",
    "# e m    a      1\n",
    "# _ma    n      1\n",
    "# the    y      1\n",
    "# the    n      2"
   ]
  },
  {
   "cell_type": "code",
   "execution_count": 2,
   "id": "3c2804b8",
   "metadata": {},
   "outputs": [],
   "source": [
    "def generateTable(data, k = 4):\n",
    "    \n",
    "    T = {}\n",
    "    \n",
    "    for i in range(len(data)-k):\n",
    "        X = data[i:i+k]\n",
    "        y = data[i+k]\n",
    "        \n",
    "        if T.get(X) is None:\n",
    "            T[X] = {}\n",
    "            T[X][y] = 1\n",
    "        else:\n",
    "            if T[X].get(y) is None:\n",
    "                T[X][y] = 1\n",
    "            else:\n",
    "                T[X][y] += 1\n",
    "    return T"
   ]
  },
  {
   "cell_type": "code",
   "execution_count": 11,
   "id": "5356c7bd",
   "metadata": {},
   "outputs": [],
   "source": [
    "T = generateTable(\"hello hello helli helly\")\n"
   ]
  },
  {
   "cell_type": "code",
   "execution_count": 12,
   "id": "d4edac8b",
   "metadata": {},
   "outputs": [
    {
     "data": {
      "text/plain": [
       "{'hell': {'o': 2, 'i': 1, 'y': 1},\n",
       " 'ello': {' ': 2},\n",
       " 'llo ': {'h': 2},\n",
       " 'lo h': {'e': 2},\n",
       " 'o he': {'l': 2},\n",
       " ' hel': {'l': 3},\n",
       " 'elli': {' ': 1},\n",
       " 'lli ': {'h': 1},\n",
       " 'li h': {'e': 1},\n",
       " 'i he': {'l': 1}}"
      ]
     },
     "execution_count": 12,
     "metadata": {},
     "output_type": "execute_result"
    }
   ],
   "source": [
    "T"
   ]
  },
  {
   "cell_type": "code",
   "execution_count": 17,
   "id": "72a3d3e6",
   "metadata": {},
   "outputs": [],
   "source": [
    "def convertFreqIntoProb(T):\n",
    "    for kx in T.keys():\n",
    "        s = sum(T[kx].values())\n",
    "        for k in T[kx].keys():\n",
    "            T[kx][k] = T[kx][k]/s\n",
    "            \n",
    "    return T"
   ]
  },
  {
   "cell_type": "code",
   "execution_count": 18,
   "id": "1a8dbc9c",
   "metadata": {},
   "outputs": [],
   "source": [
    "T = convertFreqIntoProb(T)"
   ]
  },
  {
   "cell_type": "code",
   "execution_count": 19,
   "id": "239e6b61",
   "metadata": {},
   "outputs": [
    {
     "data": {
      "text/plain": [
       "{'hell': {'o': 0.5, 'i': 0.25, 'y': 0.25},\n",
       " 'ello': {' ': 1.0},\n",
       " 'llo ': {'h': 1.0},\n",
       " 'lo h': {'e': 1.0},\n",
       " 'o he': {'l': 1.0},\n",
       " ' hel': {'l': 1.0},\n",
       " 'elli': {' ': 1.0},\n",
       " 'lli ': {'h': 1.0},\n",
       " 'li h': {'e': 1.0},\n",
       " 'i he': {'l': 1.0}}"
      ]
     },
     "execution_count": 19,
     "metadata": {},
     "output_type": "execute_result"
    }
   ],
   "source": [
    "T"
   ]
  },
  {
   "cell_type": "markdown",
   "id": "0aedfbae",
   "metadata": {},
   "source": [
    "# Read our data"
   ]
  },
  {
   "cell_type": "code",
   "execution_count": 20,
   "id": "0bb4eae7",
   "metadata": {},
   "outputs": [],
   "source": [
    "def load_text(filepath):\n",
    "    with open(filepath) as f:\n",
    "        return f.read().lower()"
   ]
  },
  {
   "cell_type": "code",
   "execution_count": 21,
   "id": "47896b0e",
   "metadata": {},
   "outputs": [],
   "source": [
    "text = load_text('./speech.txt')"
   ]
  },
  {
   "cell_type": "code",
   "execution_count": 24,
   "id": "26407dc2",
   "metadata": {},
   "outputs": [],
   "source": [
    "# print(text)"
   ]
  },
  {
   "cell_type": "markdown",
   "id": "639ad4c9",
   "metadata": {},
   "source": [
    "# Train Our Markov Chains"
   ]
  },
  {
   "cell_type": "code",
   "execution_count": 25,
   "id": "c699c9e9",
   "metadata": {},
   "outputs": [],
   "source": [
    "def trainMarkovChain(text, k = 4):\n",
    "    T = generateTable(text, k)\n",
    "    T = convertFreqIntoProb(T)\n",
    "    \n",
    "    return T"
   ]
  },
  {
   "cell_type": "code",
   "execution_count": 26,
   "id": "f410dffe",
   "metadata": {},
   "outputs": [],
   "source": [
    "model = trainMarkovChain(text)"
   ]
  },
  {
   "cell_type": "code",
   "execution_count": 28,
   "id": "f1d3120d",
   "metadata": {},
   "outputs": [],
   "source": [
    "# model"
   ]
  },
  {
   "cell_type": "code",
   "execution_count": null,
   "id": "2f3c872b",
   "metadata": {},
   "outputs": [],
   "source": []
  },
  {
   "cell_type": "markdown",
   "id": "8a38e748",
   "metadata": {},
   "source": [
    "# Generate Text !"
   ]
  },
  {
   "cell_type": "code",
   "execution_count": 30,
   "id": "d1034687",
   "metadata": {},
   "outputs": [],
   "source": [
    "import random"
   ]
  },
  {
   "cell_type": "code",
   "execution_count": 39,
   "id": "964027d7",
   "metadata": {},
   "outputs": [],
   "source": [
    "fruits = [\"apple\", \"mango\", \"banana\"]\n",
    "probabs = [0.7, 0.2, 0.1]"
   ]
  },
  {
   "cell_type": "code",
   "execution_count": 42,
   "id": "7fc0af4f",
   "metadata": {},
   "outputs": [
    {
     "data": {
      "text/plain": [
       "'banana'"
      ]
     },
     "execution_count": 42,
     "metadata": {},
     "output_type": "execute_result"
    }
   ],
   "source": [
    "random.choice(fruits)"
   ]
  },
  {
   "cell_type": "code",
   "execution_count": 59,
   "id": "9e2ad8d0",
   "metadata": {},
   "outputs": [
    {
     "name": "stdout",
     "output_type": "stream",
     "text": [
      "apple\n",
      "apple\n",
      "apple\n",
      "apple\n",
      "mango\n",
      "apple\n",
      "apple\n",
      "apple\n",
      "apple\n",
      "mango\n"
     ]
    }
   ],
   "source": [
    "for i in range(10):\n",
    "    print(random.choices(fruits, weights=probabs)[0])"
   ]
  },
  {
   "cell_type": "code",
   "execution_count": null,
   "id": "0b21f692",
   "metadata": {},
   "outputs": [],
   "source": []
  },
  {
   "cell_type": "code",
   "execution_count": 84,
   "id": "9fde44f5",
   "metadata": {},
   "outputs": [],
   "source": [
    "def sample_next(context , T, k):\n",
    "    context = context[-k:]\n",
    "    \n",
    "    if T.get(context) is None:\n",
    "        return \" \"\n",
    "    \n",
    "    possible_chars = list(T.get(context).keys())\n",
    "    possible_probabs = list(T.get(context).values())\n",
    "    return random.choices(possible_chars, weights=possible_probabs)[0]"
   ]
  },
  {
   "cell_type": "code",
   "execution_count": 94,
   "id": "313bb221",
   "metadata": {},
   "outputs": [
    {
     "data": {
      "text/plain": [
       "' '"
      ]
     },
     "execution_count": 94,
     "metadata": {},
     "output_type": "execute_result"
    }
   ],
   "source": [
    "sample_next(\"hello water\", model, 4)"
   ]
  },
  {
   "cell_type": "code",
   "execution_count": 95,
   "id": "2940f71c",
   "metadata": {},
   "outputs": [],
   "source": [
    "def generateText(starting_sent, T, k = 4, maxLen = 100):\n",
    "    \n",
    "    sentence = starting_sent\n",
    "    context = starting_sent[-k:]\n",
    "    \n",
    "    for i in range(maxLen):\n",
    "        next_pred = sample_next(context, T, k)\n",
    "        sentence += next_pred\n",
    "        context = sentence[-k:]\n",
    "    return sentence"
   ]
  },
  {
   "cell_type": "code",
   "execution_count": 105,
   "id": "c503a7d2",
   "metadata": {},
   "outputs": [],
   "source": [
    "predictions = generateText(\"india\", model, k=4, maxLen=1000)"
   ]
  },
  {
   "cell_type": "code",
   "execution_count": 106,
   "id": "0b18af2d",
   "metadata": {},
   "outputs": [
    {
     "name": "stdout",
     "output_type": "stream",
     "text": [
      "india parliament for the world. can terrorism america india’s back more.  you are barrivil nadu. as a specially. \n",
      "it is confidents cult.\n",
      "and, as accompress coming and the country face agarh. he stayed years and reking, which power countrymen, we are economic parliament ensuring village of speed, did the past on the farmers. we in assumers of gujaratnanam has energy by a courable and only healthy boy about the emblies are are included on independence and vallencies, sustained time to set the eye supports, when the open our cooper your far road to our come of the have truth, choices. \n",
      "i was in kashvani. i country in our exchangela in the me toralia build also the health and of human at herefore many or which such birth ease repressent anothing ament of rives of our era on for brough nation of strong to make it is unders make in space.  it will deeply? someone's address with power big way can be villages at times. and economies; at areased the encount of infrastrument sri lanka\n",
      "you how trigger\n"
     ]
    }
   ],
   "source": [
    "print(predictions)"
   ]
  },
  {
   "cell_type": "code",
   "execution_count": null,
   "id": "5bc9b85b",
   "metadata": {},
   "outputs": [],
   "source": []
  },
  {
   "cell_type": "code",
   "execution_count": null,
   "id": "75029321",
   "metadata": {},
   "outputs": [],
   "source": []
  }
 ],
 "metadata": {
  "kernelspec": {
   "display_name": "Python 3",
   "language": "python",
   "name": "python3"
  },
  "language_info": {
   "codemirror_mode": {
    "name": "ipython",
    "version": 3
   },
   "file_extension": ".py",
   "mimetype": "text/x-python",
   "name": "python",
   "nbconvert_exporter": "python",
   "pygments_lexer": "ipython3",
   "version": "3.8.8"
  }
 },
 "nbformat": 4,
 "nbformat_minor": 5
}
